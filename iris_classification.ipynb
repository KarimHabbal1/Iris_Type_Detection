{
  "nbformat": 4,
  "nbformat_minor": 0,
  "metadata": {
    "colab": {
      "provenance": [],
      "authorship_tag": "ABX9TyOaKU766WnV7bpxbLAdJm3C",
      "include_colab_link": true
    },
    "kernelspec": {
      "name": "python3",
      "display_name": "Python 3"
    },
    "language_info": {
      "name": "python"
    }
  },
  "cells": [
    {
      "cell_type": "markdown",
      "metadata": {
        "id": "view-in-github",
        "colab_type": "text"
      },
      "source": [
        "<a href=\"https://colab.research.google.com/github/KarimHabbal1/Iris_Type_Detection/blob/main/iris_classification.ipynb\" target=\"_parent\"><img src=\"https://colab.research.google.com/assets/colab-badge.svg\" alt=\"Open In Colab\"/></a>"
      ]
    },
    {
      "cell_type": "code",
      "execution_count": null,
      "metadata": {
        "colab": {
          "base_uri": "https://localhost:8080/"
        },
        "id": "ITY7sOu1oQ39",
        "outputId": "6b2b7156-4ded-4194-90ef-bcea1a9b9ade"
      },
      "outputs": [
        {
          "output_type": "stream",
          "name": "stderr",
          "text": [
            "<ipython-input-1-1d272d7285d2>:15: FutureWarning: Downcasting behavior in `replace` is deprecated and will be removed in a future version. To retain the old behavior, explicitly call `result.infer_objects(copy=False)`. To opt-in to the future behavior, set `pd.set_option('future.no_silent_downcasting', True)`\n",
            "  df['species']=df['species'].replace('virginica',2.0)\n"
          ]
        },
        {
          "output_type": "stream",
          "name": "stdout",
          "text": [
            "Epoch: 0, loss: 1.5072271823883057\n",
            "Epoch: 10, loss: 1.0805226564407349\n",
            "Epoch: 20, loss: 1.0036472082138062\n",
            "Epoch: 30, loss: 0.8741956949234009\n",
            "Epoch: 40, loss: 0.6034432649612427\n",
            "Epoch: 50, loss: 0.39416149258613586\n",
            "Epoch: 60, loss: 0.2520221769809723\n",
            "Epoch: 70, loss: 0.15126259624958038\n",
            "Epoch: 80, loss: 0.10309014469385147\n",
            "Epoch: 90, loss: 0.08350653201341629\n",
            "tensor(0.0335)\n"
          ]
        }
      ],
      "source": [
        "import pandas as pd\n",
        "import torch\n",
        "import torch.nn as nn\n",
        "import torch.nn.functional as F\n",
        "import matplotlib.pyplot as plt\n",
        "from sklearn.model_selection import train_test_split\n",
        "\n",
        "\n",
        "url='https://gist.githubusercontent.com/curran/a08a1080b88344b0c8a7/raw/0e7a9b0a5d22642a06d3d5b9bcbad9890c8ee534/iris.csv'\n",
        "df=pd.read_csv(url)\n",
        "\n",
        "\n",
        "df['species']=df['species'].replace('setosa',0.0)\n",
        "df['species']=df['species'].replace('versicolor',1.0)\n",
        "df['species']=df['species'].replace('virginica',2.0)\n",
        "\n",
        "\n",
        "X=df.drop('species',axis=1)\n",
        "y=df['species']\n",
        "\n",
        "X_train,X_test,y_train,y_test=train_test_split(X,y,test_size=0.2)\n",
        "\n",
        "X_train_tensor=torch.FloatTensor(X_train.values)\n",
        "X_test_tensor=torch.FloatTensor(X_test.values)\n",
        "y_train_tensor=torch.LongTensor(y_train.values)\n",
        "y_test_tensor=torch.LongTensor(y_test.values)\n",
        "\n",
        "\n",
        "class Model(nn.Module):\n",
        "\n",
        "    #Input has 4 layers since we have 4 features\n",
        "    def __init__(self, input_features=4, h1=10, h2=6, output_features=3):\n",
        "        super(Model, self).__init__()\n",
        "        self.fc1=nn.Linear(input_features,h1)\n",
        "        self.fc2=nn.Linear(h1,h2)\n",
        "        self.fc3=nn.Linear(h2,output_features)\n",
        "\n",
        "    def forward(self,x):\n",
        "        x=F.relu(self.fc1(x))\n",
        "        x=F.relu(self.fc2(x))\n",
        "        x=self.fc3(x)\n",
        "        return x\n",
        "\n",
        "model=Model()\n",
        "\n",
        "criterion = nn.CrossEntropyLoss()\n",
        "optimizer=torch.optim.Adam(model.parameters(), lr=0.01)\n",
        "\n",
        "\n",
        "epoch=100\n",
        "losses=[]\n",
        "\n",
        "for e in range(epoch):\n",
        "\n",
        "    y_pred=model.forward(X_train_tensor)\n",
        "    loss = criterion(y_pred, y_train_tensor)\n",
        "    losses.append(loss.detach().numpy())\n",
        "    optimizer.zero_grad()\n",
        "    loss.backward()\n",
        "    optimizer.step()\n",
        "    if e%10==0:\n",
        "        print(f'Epoch: {e}, loss: {loss}')\n",
        "\n",
        "\n",
        "with torch.no_grad():\n",
        "    y_eval=model.forward(X_test_tensor)\n",
        "    loss=criterion(y_eval,y_test_tensor)\n",
        "    print(loss)\n"
      ]
    }
  ]
}